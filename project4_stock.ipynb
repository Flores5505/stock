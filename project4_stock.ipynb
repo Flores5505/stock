{
 "cells": [
  {
   "cell_type": "markdown",
   "id": "46573a2b",
   "metadata": {},
   "source": [
    "# Project 4 Stock\n",
    "__C. Fortino Flores (flores5505)__ <br>\n",
    "<hr>"
   ]
  },
  {
   "cell_type": "markdown",
   "id": "42870a13",
   "metadata": {},
   "source": [
    "## (11/19) Week 1 : Testing the Waters\n",
    "As I have never worked with stocks prior to this assignment, this week I had decided to primarily spend my time on learning more about them and the stock market as a whole."
   ]
  },
  {
   "cell_type": "markdown",
   "id": "6b25f006",
   "metadata": {},
   "source": [
    "### Initial Investments\n",
    "<table>\n",
    "    <tr>\n",
    "        <th> Company </th>\n",
    "        <th> Purchase Price </th>\n",
    "        <th> Qty </th>\n",
    "        <th> Total Cost </th>\n",
    "    </tr>\n",
    "    <tr>\n",
    "        <td> BA Boeing Co. </td>\n",
    "        <td> \\$213.38 </td>\n",
    "        <td> 200 </td>\n",
    "        <td> \\$42,676.00 </td>\n",
    "    </tr>\n",
    "    <tr>\n",
    "        <td> OKTA Okta Inc. </td>\n",
    "        <td> \\$241.68 </td>\n",
    "        <td> 100 </td>\n",
    "        <td> \\$24,168.00 </td>\n",
    "    </tr>\n",
    "    <tr>\n",
    "        <td> WMT Walmart Inc. </td>\n",
    "        <td> \\$142.32 </td>\n",
    "        <td> 200 </td>\n",
    "        <td> \\$28,464.00 </td>\n",
    "    </tr>\n",
    "</table>"
   ]
  },
  {
   "cell_type": "markdown",
   "id": "31c3ba97",
   "metadata": {},
   "source": [
    "### Reasoning"
   ]
  },
  {
   "cell_type": "markdown",
   "id": "4fbc723d",
   "metadata": {},
   "source": [
    "I began to decide my initial purchases by checking through each of the main indices: S&P 500, Nasdaq, Dow Jones.\n",
    "\n",
    "I initially noticed that the Dow Jones was currently down 268.97 points so I was interested in finding out which companies were accounting for such a drastic change. The two main culprits appeared to be UniteHealth Group Inc. and Boeing Company, with a change in 9.47 and 13.00 respectively. I decided to buy Boeing over UnitedHealth beacuse looking at 3 month graphs for both of the companies' stock revealed that UnitedHealth had just started dipping and is still 20 more than in september, while Boeing dipped much faster to 5 below September's price. I expect Boeing to start increasing soon and for UnitedHealth to decrease a bit more.\n",
    "\n",
    "Looking through the Nasdaq 100 revealed that Okta had just dipped to 35 below it's three month high which occured early in September. It's stock change compared to the previous close was down 23.34 . Taking these two facts into account I expect this company to be a safe purchase.\n",
    "\n",
    "Finally, I decided to purchase stock of Walmart because it just started recovering from a downward trend from it's three month high in the beggining of November. I am expecting them to move lots of merchandise for black friday and christmas and hopefully that will help the stock increase more."
   ]
  },
  {
   "cell_type": "markdown",
   "id": "dd51545b",
   "metadata": {},
   "source": [
    "### Conclusion"
   ]
  },
  {
   "cell_type": "markdown",
   "id": "6edcb60a",
   "metadata": {},
   "source": [
    "I had used this introductory week to mainly look through the current lowest performing companies in each of the indices and use that information to help me decide to purchase stock of them. Next week I will look through how I can analyze the data more than using my own head.\n",
    "\n",
    "This week I spent ~100,000 on stock to test the waters and decided to save the other ~150,000 for any future trades I would like to make."
   ]
  },
  {
   "cell_type": "markdown",
   "id": "930c4059",
   "metadata": {},
   "source": [
    "---"
   ]
  },
  {
   "cell_type": "markdown",
   "id": "b6c03f12",
   "metadata": {},
   "source": [
    "## (11/26) Week 2 In the Red"
   ]
  },
  {
   "cell_type": "markdown",
   "id": "b35e6fd6",
   "metadata": {},
   "source": [
    "I had many other obligations this week such as a final exam in another class, other projects, and spending the Holiday with family so I was unable to spend as much time as I would have liked to on my stocks. Consequently, I am currently at a loss in my investments. My account is valued at 245,784.00 dollars; which is 5,000 dollars less than last week's initial starting balance."
   ]
  },
  {
   "cell_type": "markdown",
   "id": "f35094b3",
   "metadata": {},
   "source": [
    "### End of Week's Investments\n",
    "<table>\n",
    "    <tr>\n",
    "        <th> Company </th>\n",
    "        <th> Purchase Price </th>\n",
    "        <th> Current Price </th>\n",
    "        <th> Qty </th>\n",
    "        <th> Total Cost </th>\n",
    "    </tr>\n",
    "    <tr>\n",
    "        <td> BA Boeing Co. </td>\n",
    "        <td> \\$213.38 </td>\n",
    "        <td> \\$199.21 </td>\n",
    "        <td> 200 </td>\n",
    "        <td> \\$39,842.00 </td>\n",
    "    </tr>\n",
    "    <tr>\n",
    "        <td> OKTA Okta Inc. </td>\n",
    "        <td> \\$241.68 </td>\n",
    "        <td> \\$222.69 </td>\n",
    "        <td> 100 </td>\n",
    "        <td> \\$24,168.00 </td>\n",
    "    </tr>\n",
    "    <tr>\n",
    "        <td> SCHW Charles Schwab Corp. </td>\n",
    "        <td> \\$79.15 </td>\n",
    "        <td> \\$79.15 </td>\n",
    "        <td> 100 </td>\n",
    "        <td> \\$7,915.00 </td>\n",
    "    </tr>\n",
    "    <tr>\n",
    "        <td> JNJ Johnson & Johnson </td>\n",
    "        <td> \\$159.20 </td>\n",
    "        <td> \\$159.20 </td>\n",
    "        <td> 1 </td>\n",
    "        <td> \\$159.20 </td>\n",
    "    </tr>\n",
    "    <tr>\n",
    "        <td> MA Mastercard Inc. </td>\n",
    "        <td> \\$324.17 </td>\n",
    "        <td> \\$324.17 </td>\n",
    "        <td> 1 </td>\n",
    "        <td> \\$324.17 </td>\n",
    "    </tr>\n",
    "</table>"
   ]
  },
  {
   "cell_type": "markdown",
   "id": "7fa880af",
   "metadata": {},
   "source": [
    "The stock market being closed for Thanksgiving really saw the value of stocks decrease greatly. Prior to the holiday, they were soaring; yet, immediately afterwards, there was a steep decline. Boeing and Okta both experienced this with thier price decreasing to below the point at which I purchased them. I am going to hold on to these two though as I expect them two increase once again."
   ]
  },
  {
   "cell_type": "markdown",
   "id": "f3ee54a1",
   "metadata": {},
   "source": [
    "I decided to purchase stocks of both Mastercard and Johnson and Johnson as an indicator to see how well they do. If I notice them begin to climb when the market opens again, I will purchase more and hope to gain a sizable profit to get out of the red."
   ]
  },
  {
   "cell_type": "markdown",
   "id": "53ec8a18",
   "metadata": {},
   "source": [
    "### End of week's Sales\n",
    "<table>\n",
    "    <tr>\n",
    "        <th> Company </th>\n",
    "        <th> Purchase Price </th>\n",
    "        <th> Sale Price </th>\n",
    "        <th> Qty </th>\n",
    "        <th> Initial Cost </th>\n",
    "        <th> Profit </th>\n",
    "    </tr>\n",
    "    <tr>\n",
    "        <td> WMT Walmart Inc. </td>\n",
    "        <td> \\$142.32 </td>\n",
    "        <td> \\$144.90 </td>\n",
    "        <td> 200 </td>\n",
    "        <td> \\$28,464.00 </td>\n",
    "        <td> \\$516.00 </td>\n",
    "    </tr>\n",
    "</table>"
   ]
  },
  {
   "cell_type": "markdown",
   "id": "5dc7af4a",
   "metadata": {},
   "source": [
    "When I finally got to checking my stocks, I saw that i missed the peak time to sell Walmart, however, I still made a profit and decided to sell because the price was falling to before the price of my initial purchase."
   ]
  },
  {
   "cell_type": "code",
   "execution_count": null,
   "id": "892faa1e",
   "metadata": {},
   "outputs": [],
   "source": []
  },
  {
   "cell_type": "markdown",
   "id": "69a5e6e3",
   "metadata": {},
   "source": [
    "## (12/03) Week 3"
   ]
  },
  {
   "cell_type": "markdown",
   "id": "51a6934c",
   "metadata": {},
   "source": [
    "## (12/10) Week 4"
   ]
  }
 ],
 "metadata": {
  "kernelspec": {
   "display_name": "Python 3",
   "language": "python",
   "name": "python3"
  },
  "language_info": {
   "codemirror_mode": {
    "name": "ipython",
    "version": 3
   },
   "file_extension": ".py",
   "mimetype": "text/x-python",
   "name": "python",
   "nbconvert_exporter": "python",
   "pygments_lexer": "ipython3",
   "version": "3.8.8"
  }
 },
 "nbformat": 4,
 "nbformat_minor": 5
}
